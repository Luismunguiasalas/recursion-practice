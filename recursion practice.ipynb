{
 "metadata": {
  "language_info": {
   "codemirror_mode": {
    "name": "ipython",
    "version": 3
   },
   "file_extension": ".py",
   "mimetype": "text/x-python",
   "name": "python",
   "nbconvert_exporter": "python",
   "pygments_lexer": "ipython3",
   "version": "3.8.5-final"
  },
  "orig_nbformat": 2,
  "kernelspec": {
   "name": "python3",
   "display_name": "Python 3",
   "language": "python"
  }
 },
 "nbformat": 4,
 "nbformat_minor": 2,
 "cells": [
  {
   "cell_type": "code",
   "execution_count": null,
   "metadata": {},
   "outputs": [],
   "source": [
    "def recursion(n):\n",
    "    if n > 1:\n",
    "        x = n * recursion(n-1)\n",
    "    else:\n",
    "        x= 1\n",
    "    return x\n",
    "recursion(7)"
   ]
  },
  {
   "cell_type": "code",
   "execution_count": null,
   "metadata": {},
   "outputs": [],
   "source": [
    "def evil_func(x): \n",
    "  x[1] = 0 \n",
    " \n",
    "a = {4, 6} \n",
    "evil_func(a) \n",
    "print(a)`"
   ]
  },
  {
   "cell_type": "code",
   "execution_count": null,
   "metadata": {},
   "outputs": [],
   "source": [
    "string = \"string\"\n",
    "# string = \"\".join(list(reversed(string)))\n",
    "string = \"\".join(reversed(string))\n",
    "print(string)\n",
    "\n",
    "arr = [1,2,3,4,5]\n",
    "arr2 = [11,12,13]\n",
    "for t in zip(arr,arr2):\n",
    "    print(t)\n",
    "\n",
    "\n",
    "def double(x): \n",
    "    print('Evaluating double') \n",
    "    return x+x \n",
    "\n",
    "a = [1,2,3] \n",
    "print('Calling map') \n",
    "m = map(double, a) \n",
    "print('Called map') \n",
    "\n",
    "print('Entering loop') \n",
    "for x in m: \n",
    "    print('Start of loop body') \n",
    "    print(x)\n",
    "    \n"
   ]
  },
  {
   "cell_type": "code",
   "execution_count": null,
   "metadata": {},
   "outputs": [],
   "source": [
    "a = [[1, 2, 3], [1, 1, 5], [6, 7, 8], [1, 1, 5]] \n",
    "print(sum(a,[]))\n",
    "a = sum(a,[])\n",
    "print(sum(a))"
   ]
  },
  {
   "cell_type": "code",
   "execution_count": null,
   "metadata": {},
   "outputs": [],
   "source": [
    "a = [[1, 2, 3], [1, 1, 5], [6, 7, 8], [1, 1, 5]] \n",
    "print(min(a, key=lambda x: x[2])) # [1, 2, 3] \n",
    "a = [[1, 2, 1],[1, 2, 3], [1, 1, 5], [6, 7, 8], [1, 1, 5]] \n",
    "print(min(a,key=lambda x: x[2]))\n",
    "print(min(a))\n",
    "print(max(a))\n",
    "print(max(a,key=lambda x:x[0]))\n",
    "\n",
    "s = {1,2}\n",
    "print(type(s))\n",
    "print(len(s))\n"
   ]
  },
  {
   "cell_type": "code",
   "execution_count": null,
   "metadata": {},
   "outputs": [],
   "source": [
    "import functools\n",
    "a = [1,2,3,4,5]\n",
    "print(functools.reduce(lambda x, y: x + y, a, 15))\n",
    "\n",
    "\n",
    "a = ['hello','world','!']\n",
    "s = ''.join(a)\n",
    "print(len(s))\n",
    "a = map(lambda x: x + x, [1,2,3,4,5])\n",
    "print(len(list(a)))"
   ]
  },
  {
   "cell_type": "code",
   "execution_count": 25,
   "metadata": {},
   "outputs": [
    {
     "output_type": "stream",
     "name": "stdout",
     "text": [
      "[0, 1, 2, 1, 2, 3, 2, 3, 4]\n"
     ]
    }
   ],
   "source": [
    "a = [[13,90,45], [96,27,8],[1,13,5]]\n",
    "# print(min(a, key=lambda x: x[2]))\n",
    "\n",
    "# print([[x for x in range(6)] for y in range(5)])\n",
    "# print([[x for x in range(6) if x % 2 == 0] for y in range(5)])\n",
    "# print([[x for x in range(3)] for y in range(3)])\n",
    "print([x+ y for x in range(3) for y in range(3)])\n"
   ]
  },
  {
   "cell_type": "code",
   "execution_count": 38,
   "metadata": {},
   "outputs": [
    {
     "output_type": "execute_result",
     "data": {
      "text/plain": [
       "(2, [0, 1, 1, 2, 3])"
      ]
     },
     "metadata": {},
     "execution_count": 38
    }
   ],
   "source": [
    "def nth_fib(i):\n",
    "    c,n,l,i = 0,1,[0,1],i-2\n",
    "    while i > 0:\n",
    "        c,n = n, c + n\n",
    "        l.append(n)\n",
    "        i -= 1\n",
    "    return c,l\n",
    "\n",
    "nth_fib(5)"
   ]
  },
  {
   "cell_type": "code",
   "execution_count": null,
   "metadata": {},
   "outputs": [],
   "source": []
  }
 ]
}