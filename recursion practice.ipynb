{
 "metadata": {
  "language_info": {
   "codemirror_mode": {
    "name": "ipython",
    "version": 3
   },
   "file_extension": ".py",
   "mimetype": "text/x-python",
   "name": "python",
   "nbconvert_exporter": "python",
   "pygments_lexer": "ipython3",
   "version": "3.8.5-final"
  },
  "orig_nbformat": 2,
  "kernelspec": {
   "name": "python3",
   "display_name": "Python 3",
   "language": "python"
  }
 },
 "nbformat": 4,
 "nbformat_minor": 2,
 "cells": [
  {
   "cell_type": "code",
   "execution_count": null,
   "metadata": {},
   "outputs": [],
   "source": [
    "def recursion(n):\n",
    "    if n > 1:\n",
    "        x = n * recursion(n-1)\n",
    "    else:\n",
    "        x= 1\n",
    "    return x\n",
    "recursion(7)"
   ]
  },
  {
   "cell_type": "code",
   "execution_count": null,
   "metadata": {},
   "outputs": [],
   "source": [
    "def evil_func(x): \n",
    "  x[1] = 0 \n",
    " \n",
    "a = {4, 6} \n",
    "evil_func(a) \n",
    "print(a)`"
   ]
  },
  {
   "cell_type": "code",
   "execution_count": null,
   "metadata": {},
   "outputs": [],
   "source": [
    "string = \"string\"\n",
    "# string = \"\".join(list(reversed(string)))\n",
    "string = \"\".join(reversed(string))\n",
    "print(string)\n",
    "\n",
    "arr = [1,2,3,4,5]\n",
    "arr2 = [11,12,13]\n",
    "for t in zip(arr,arr2):\n",
    "    print(t)\n",
    "\n",
    "\n",
    "def double(x): \n",
    "    print('Evaluating double') \n",
    "    return x+x \n",
    "\n",
    "a = [1,2,3] \n",
    "print('Calling map') \n",
    "m = map(double, a) \n",
    "print('Called map') \n",
    "\n",
    "print('Entering loop') \n",
    "for x in m: \n",
    "    print('Start of loop body') \n",
    "    print(x)\n",
    "    \n"
   ]
  },
  {
   "cell_type": "code",
   "execution_count": null,
   "metadata": {},
   "outputs": [],
   "source": []
  },
  {
   "cell_type": "code",
   "execution_count": null,
   "metadata": {},
   "outputs": [],
   "source": []
  }
 ]
}