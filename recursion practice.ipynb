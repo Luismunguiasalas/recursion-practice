{
 "metadata": {
  "language_info": {
   "codemirror_mode": {
    "name": "ipython",
    "version": 3
   },
   "file_extension": ".py",
   "mimetype": "text/x-python",
   "name": "python",
   "nbconvert_exporter": "python",
   "pygments_lexer": "ipython3",
   "version": "3.8.5-final"
  },
  "orig_nbformat": 2,
  "kernelspec": {
   "name": "python3",
   "display_name": "Python 3",
   "language": "python"
  }
 },
 "nbformat": 4,
 "nbformat_minor": 2,
 "cells": [
  {
   "cell_type": "code",
   "execution_count": null,
   "metadata": {},
   "outputs": [],
   "source": [
    "def recursion(n):\n",
    "    if n > 1:\n",
    "        x = n * recursion(n-1)\n",
    "    else:\n",
    "        x= 1\n",
    "    return x\n",
    "recursion(7)"
   ]
  },
  {
   "cell_type": "code",
   "execution_count": null,
   "metadata": {},
   "outputs": [],
   "source": [
    "def evil_func(x): \n",
    "  x[1] = 0 \n",
    " \n",
    "a = {4, 6} \n",
    "evil_func(a) \n",
    "print(a)`"
   ]
  },
  {
   "cell_type": "code",
   "execution_count": null,
   "metadata": {},
   "outputs": [],
   "source": [
    "string = \"string\"\n",
    "# string = \"\".join(list(reversed(string)))\n",
    "string = \"\".join(reversed(string))\n",
    "print(string)\n",
    "\n",
    "arr = [1,2,3,4,5]\n",
    "arr2 = [11,12,13]\n",
    "for t in zip(arr,arr2):\n",
    "    print(t)\n",
    "\n",
    "\n",
    "def double(x): \n",
    "    print('Evaluating double') \n",
    "    return x+x \n",
    "\n",
    "a = [1,2,3] \n",
    "print('Calling map') \n",
    "m = map(double, a) \n",
    "print('Called map') \n",
    "\n",
    "print('Entering loop') \n",
    "for x in m: \n",
    "    print('Start of loop body') \n",
    "    print(x)\n",
    "    \n"
   ]
  },
  {
   "cell_type": "code",
   "execution_count": 6,
   "metadata": {},
   "outputs": [
    {
     "output_type": "stream",
     "name": "stdout",
     "text": [
      "[1, 2, 3, 1, 1, 5, 6, 7, 8, 1, 1, 5]\n41\n"
     ]
    }
   ],
   "source": [
    "a = [[1, 2, 3], [1, 1, 5], [6, 7, 8], [1, 1, 5]] \n",
    "print(sum(a,[]))\n",
    "a = sum(a,[])\n",
    "print(sum(a))"
   ]
  },
  {
   "cell_type": "code",
   "execution_count": 11,
   "metadata": {},
   "outputs": [
    {
     "output_type": "stream",
     "name": "stdout",
     "text": [
      "[1, 2, 3]\n[1, 2, 1]\n[1, 1, 5]\n[6, 7, 8]\n[6, 7, 8]\n<class 'set'>\n2\n"
     ]
    }
   ],
   "source": [
    "a = [[1, 2, 3], [1, 1, 5], [6, 7, 8], [1, 1, 5]] \n",
    "print(min(a, key=lambda x: x[2])) # [1, 2, 3] \n",
    "a = [[1, 2, 1],[1, 2, 3], [1, 1, 5], [6, 7, 8], [1, 1, 5]] \n",
    "print(min(a,key=lambda x: x[2]))\n",
    "print(min(a))\n",
    "print(max(a))\n",
    "print(max(a,key=lambda x:x[0]))\n",
    "\n",
    "s = {1,2}\n",
    "print(type(s))\n",
    "print(len(s))\n"
   ]
  },
  {
   "cell_type": "code",
   "execution_count": 17,
   "metadata": {},
   "outputs": [
    {
     "output_type": "stream",
     "name": "stdout",
     "text": [
      "30\n11\n"
     ]
    },
    {
     "output_type": "error",
     "ename": "TypeError",
     "evalue": "object of type 'map' has no len()",
     "traceback": [
      "\u001b[0;31m---------------------------------------------------------------------------\u001b[0m",
      "\u001b[0;31mTypeError\u001b[0m                                 Traceback (most recent call last)",
      "\u001b[0;32m<ipython-input-17-b2009567e3fa>\u001b[0m in \u001b[0;36m<module>\u001b[0;34m\u001b[0m\n\u001b[1;32m      8\u001b[0m \u001b[0mprint\u001b[0m\u001b[0;34m(\u001b[0m\u001b[0mlen\u001b[0m\u001b[0;34m(\u001b[0m\u001b[0ms\u001b[0m\u001b[0;34m)\u001b[0m\u001b[0;34m)\u001b[0m\u001b[0;34m\u001b[0m\u001b[0;34m\u001b[0m\u001b[0m\n\u001b[1;32m      9\u001b[0m \u001b[0ma\u001b[0m \u001b[0;34m=\u001b[0m \u001b[0mmap\u001b[0m\u001b[0;34m(\u001b[0m\u001b[0;32mlambda\u001b[0m \u001b[0mx\u001b[0m\u001b[0;34m:\u001b[0m \u001b[0mx\u001b[0m \u001b[0;34m+\u001b[0m \u001b[0mx\u001b[0m\u001b[0;34m,\u001b[0m \u001b[0;34m[\u001b[0m\u001b[0;36m1\u001b[0m\u001b[0;34m,\u001b[0m\u001b[0;36m2\u001b[0m\u001b[0;34m,\u001b[0m\u001b[0;36m3\u001b[0m\u001b[0;34m,\u001b[0m\u001b[0;36m4\u001b[0m\u001b[0;34m,\u001b[0m\u001b[0;36m5\u001b[0m\u001b[0;34m]\u001b[0m\u001b[0;34m)\u001b[0m\u001b[0;34m\u001b[0m\u001b[0;34m\u001b[0m\u001b[0m\n\u001b[0;32m---> 10\u001b[0;31m \u001b[0mprint\u001b[0m\u001b[0;34m(\u001b[0m\u001b[0mlen\u001b[0m\u001b[0;34m(\u001b[0m\u001b[0ma\u001b[0m\u001b[0;34m)\u001b[0m\u001b[0;34m)\u001b[0m\u001b[0;34m\u001b[0m\u001b[0;34m\u001b[0m\u001b[0m\n\u001b[0m",
      "\u001b[0;31mTypeError\u001b[0m: object of type 'map' has no len()"
     ]
    }
   ],
   "source": [
    "import functools\n",
    "a = [1,2,3,4,5]\n",
    "print(functools.reduce(lambda x, y: x + y, a, 15))\n",
    "\n",
    "\n",
    "a = ['hello','world','!']\n",
    "s = ''.join(a)\n",
    "print(len(s))\n",
    "a = map(lambda x: x + x, [1,2,3,4,5])\n",
    "print(len(a))"
   ]
  },
  {
   "cell_type": "code",
   "execution_count": 20,
   "metadata": {},
   "outputs": [
    {
     "output_type": "stream",
     "name": "stdout",
     "text": [
      "[1, 13, 5]\n"
     ]
    }
   ],
   "source": [
    "a = [[13,90,45], [96,27,8],[1,13,5]]\n",
    "print(min(a, key=lambda x: x[2]))"
   ]
  }
 ]
}